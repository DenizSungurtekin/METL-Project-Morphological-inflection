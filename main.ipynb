{
 "cells": [
  {
   "cell_type": "markdown",
   "metadata": {},
   "source": [
    "## Importation of libraries"
   ]
  },
  {
   "cell_type": "code",
   "execution_count": 35,
   "metadata": {},
   "outputs": [],
   "source": [
    "import numpy as np\n",
    "import pandas as pd\n",
    "import matplotlib.pyplot as plt\n",
    "import seaborn as sns\n",
    "\n",
    "# from keras.preprocessing.text import one_hot\n",
    "# from keras.preprocessing.text import text_to_word_sequence"
   ]
  },
  {
   "cell_type": "markdown",
   "metadata": {},
   "source": [
    "## Data Visualization And Encoding"
   ]
  },
  {
   "cell_type": "code",
   "execution_count": 36,
   "metadata": {},
   "outputs": [],
   "source": [
    "# Load the datasets\n",
    "\n",
    "fname_train = \"data/finnish-task1-train\"\n",
    "fname_test = \"data/finnish-task1-test\"\n",
    "fname_dev = \"data/finnish-task1-dev\"\n",
    "\n",
    "train = np.loadtxt(fname_train,dtype = str)\n",
    "test = np.loadtxt(fname_test,dtype = str)\n",
    "dev = np.loadtxt(fname_dev,dtype = str)"
   ]
  },
  {
   "cell_type": "code",
   "execution_count": 37,
   "metadata": {},
   "outputs": [
    {
     "name": "stdout",
     "output_type": "stream",
     "text": [
      "[['Ã¤Ã¤kkÃ¶stÃ¤Ã¤' 'pos=V,polar=POS,mood=IMP,tense=PRS,per=3,num=SG'\n",
      "  'Ã¤Ã¤kkÃ¶stÃ¤kÃ¶Ã¶n']\n",
      " ['Ã¤Ã¤kkÃ¶stÃ¤Ã¤' 'pos=V,voice=ACT,aspect=PROSP'\n",
      "  'Ã¤Ã¤kkÃ¶stÃ¤mÃ¤isillÃ¤Ã¤n']\n",
      " ['aalloittaisuus' 'pos=N,case=ON+ESS,num=PL' 'aalloittaisuuksilla']\n",
      " ...\n",
      " ['zoonoosi' 'pos=N,case=PRIV,num=SG' 'zoonoositta']\n",
      " ['zsaari' 'pos=N,case=IN+LAT,num=PL' 'zsaareihin']\n",
      " ['zumbata' 'pos=V,polar=POS,mood=POT,tense=PRS,per=2,num=PL'\n",
      "  'zumbannette']]\n",
      "(12693, 3)\n"
     ]
    }
   ],
   "source": [
    "print(train)\n",
    "print(train.shape)"
   ]
  },
  {
   "cell_type": "code",
   "execution_count": 38,
   "metadata": {},
   "outputs": [
    {
     "name": "stdout",
     "output_type": "stream",
     "text": [
      "[['alkeiskoppi' 'pos=N,case=NOM,num=SG' 'alkeiskoppi']\n",
      " ['lenkkitossut' 'pos=N,case=ON+ESS,num=PL' 'lenkkitossuilla']\n",
      " ['baritonitorvi' 'pos=N,case=PRIV,num=SG' 'baritonitorvetta']\n",
      " ...\n",
      " ['katkeroida' 'pos=V,polar=POS,mood=IND,tense=PRS,per=3,num=SG'\n",
      "  'katkeroi']\n",
      " ['paarmalintu' 'pos=N,case=TRANS,num=PL' 'paarmalinnuiksi']\n",
      " ['malisiÃ¶Ã¶si' 'pos=ADJ,case=IN+ABL,num=SG' 'malisiÃ¶Ã¶sistÃ¤']]\n",
      "(23633, 3)\n"
     ]
    }
   ],
   "source": [
    "print(test)\n",
    "print(test.shape)"
   ]
  },
  {
   "cell_type": "code",
   "execution_count": 39,
   "metadata": {},
   "outputs": [
    {
     "name": "stdout",
     "output_type": "stream",
     "text": [
      "[['aakkosto' 'pos=N,case=NOM,num=PL' 'aakkostot']\n",
      " ['aallottaa' 'pos=V,mood=PURP,voice=ACT' 'aallottaakseen']\n",
      " ['aaltoluku' 'pos=N,case=FRML,num=SG' 'aaltolukuna']\n",
      " ...\n",
      " ['ystÃ¤vÃ¤piiri' 'pos=N,case=ON+ABL,num=SG' 'ystÃ¤vÃ¤piiriltÃ¤']\n",
      " ['ytimekÃ¤s' 'pos=ADJ,case=ACC,num=SG' 'ytimekkÃ¤Ã¤n']\n",
      " ['zombi' 'pos=N,case=IN+ABL,num=PL' 'zombeista']]\n",
      "(1598, 3)\n"
     ]
    }
   ],
   "source": [
    "print(dev)\n",
    "print(dev.shape)"
   ]
  },
  {
   "cell_type": "code",
   "execution_count": 40,
   "metadata": {},
   "outputs": [],
   "source": [
    "## Definition of encoding functions\n",
    "\n",
    "# Return the dictionary for a given list\n",
    "def list_to_dict(data):  \n",
    "    dic = {}\n",
    "    for x in data:\n",
    "        dic[x] = dic.get(x, len(dic))\n",
    "    return dic\n",
    "\n",
    "# Return the encoded array\n",
    "def encode(data):\n",
    "    dics = []\n",
    "    for i in range(data.shape[1]):\n",
    "        dic = list_to_dict(data[:,i])\n",
    "        dics.append(dic)\n",
    "        for j in range(len(data[:,i])):\n",
    "            data[:,i][j] = dic[data[:,i][j]]\n",
    "            \n",
    "    return data,dics"
   ]
  },
  {
   "cell_type": "code",
   "execution_count": 41,
   "metadata": {},
   "outputs": [],
   "source": [
    "# We also store the dictionary to do the decoding operation at the end\n",
    "train,dics_train = encode(train) \n",
    "test,dics_test = encode(test)\n",
    "dev,dics_dev = encode(dev)"
   ]
  },
  {
   "cell_type": "code",
   "execution_count": 42,
   "metadata": {},
   "outputs": [],
   "source": [
    "x_train = train[:,0:2]\n",
    "x_test = test[:,0:2]\n",
    "x_dev = dev[:,0:2]\n",
    "\n",
    "y_train = train[:,2]\n",
    "y_test = test[:,2]\n",
    "y_dev = dev[:,2]"
   ]
  },
  {
   "cell_type": "code",
   "execution_count": 43,
   "metadata": {},
   "outputs": [
    {
     "name": "stdout",
     "output_type": "stream",
     "text": [
      "[['0' '0']\n",
      " ['0' '1']\n",
      " ['1' '2']\n",
      " ...\n",
      " ['9853' '21']\n",
      " ['9854' '24']\n",
      " ['9855' '43']]\n",
      "(12693, 2)\n"
     ]
    }
   ],
   "source": [
    "print(x_train)\n",
    "print(x_train.shape)"
   ]
  },
  {
   "cell_type": "code",
   "execution_count": 44,
   "metadata": {},
   "outputs": [
    {
     "name": "stdout",
     "output_type": "stream",
     "text": [
      "['0' '1' '2' ... '12675' '12676' '12677']\n",
      "(12693,)\n"
     ]
    }
   ],
   "source": [
    "print(y_train)\n",
    "print(y_train.shape)"
   ]
  }
 ],
 "metadata": {
  "kernelspec": {
   "display_name": "Python 3",
   "language": "python",
   "name": "python3"
  },
  "language_info": {
   "codemirror_mode": {
    "name": "ipython",
    "version": 3
   },
   "file_extension": ".py",
   "mimetype": "text/x-python",
   "name": "python",
   "nbconvert_exporter": "python",
   "pygments_lexer": "ipython3",
   "version": "3.8.2"
  }
 },
 "nbformat": 4,
 "nbformat_minor": 4
}
